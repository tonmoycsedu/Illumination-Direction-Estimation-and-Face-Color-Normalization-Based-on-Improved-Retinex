{
 "cells": [
  {
   "cell_type": "code",
   "execution_count": 1,
   "metadata": {},
   "outputs": [
    {
     "name": "stdout",
     "output_type": "stream",
     "text": [
      "8 8\n"
     ]
    }
   ],
   "source": [
    "#resize height, width\n",
    "height = 128\n",
    "width = 128\n",
    "grid_height = int(height/16)\n",
    "grid_width = int(width/16)\n",
    "print(grid_height,grid_width)"
   ]
  },
  {
   "cell_type": "code",
   "execution_count": 2,
   "metadata": {},
   "outputs": [
    {
     "data": {
      "text/plain": [
       "True"
      ]
     },
     "execution_count": 2,
     "metadata": {},
     "output_type": "execute_result"
    }
   ],
   "source": [
    "#Block for reading the image and converting it to YCrCb and extract Y component\n",
    "\n",
    "import cv2\n",
    "import numpy as np\n",
    "\n",
    "img = cv2.imread('Lenna.png')\n",
    "\n",
    "img_ycrcb = cv2.cvtColor(img, cv2.COLOR_BGR2YCrCb)\n",
    "Y,Cr,Cb = cv2.split(img_ycrcb)\n",
    "\n",
    "#print(Y)\n",
    "res = cv2.resize(Y,(height, width), interpolation = cv2.INTER_CUBIC)\n",
    "cv2.imwrite(\"y.jpg\",res)\n"
   ]
  },
  {
   "cell_type": "code",
   "execution_count": 3,
   "metadata": {
    "collapsed": true
   },
   "outputs": [],
   "source": [
    "#block for automatic canny edge detection\n",
    "# import the necessary packages\n",
    "import argparse\n",
    "import glob\n",
    "\n",
    "\n",
    "def auto_canny(image, sigma=0.33):\n",
    "    # compute the median of the single channel pixel intensities\n",
    "    v = np.median(image)\n",
    "\n",
    "    # apply automatic Canny edge detection using the computed median\n",
    "    lower = int(max(0, (1.0 - sigma) * v))\n",
    "    upper = int(min(255, (1.0 + sigma) * v))\n",
    "    edged = cv2.Canny(image, lower, upper)\n",
    "\n",
    "    # return the edged image\n",
    "    return edged"
   ]
  },
  {
   "cell_type": "code",
   "execution_count": 4,
   "metadata": {},
   "outputs": [
    {
     "data": {
      "text/plain": [
       "True"
      ]
     },
     "execution_count": 4,
     "metadata": {},
     "output_type": "execute_result"
    }
   ],
   "source": [
    "#convert Y component to binary image/ edge detetction\n",
    "blurred = cv2.GaussianBlur(res, (3, 3), 0)\n",
    "edge_image = auto_canny(blurred)\n",
    "cv2.imwrite(\"binary.jpg\",edge_image)"
   ]
  },
  {
   "cell_type": "code",
   "execution_count": 5,
   "metadata": {
    "collapsed": true
   },
   "outputs": [],
   "source": [
    "#block for dividing image into 16 equal regions\n",
    "cropped_y_regions = []\n",
    "cropped_edge_regions = []\n",
    "avg_gray_values = []\n",
    "avg_gray_dict = {}\n",
    "edge_complexity = []\n",
    "edge_complexity_dict = {}\n",
    "\n",
    "for i in range(0,16):\n",
    "    cropped_y_regions.append([])\n",
    "    cropped_edge_regions.append([])\n",
    "    #avg_gray_values.append([])\n",
    "    y = i*grid_height\n",
    "    x = i*grid_width\n",
    "    crop_y_img = res[y:y+grid_height, x:x+grid_width]\n",
    "    crop_edge_img = edge_image[y:y+grid_height, x:x+grid_width]\n",
    "    cropped_y_regions[i].append(crop_y_img)\n",
    "    cropped_edge_regions[i].append(crop_edge_img)\n",
    "    \n",
    "    #find average gray value\n",
    "    avg_gray_values.append(crop_y_img.mean())\n",
    "    avg_gray_dict.update({i:crop_y_img.mean()})\n",
    "    \n",
    "    #calculate edge complexity\n",
    "    complexity = sum(x.tolist().count(255) for x in crop_edge_img)/(height*width)\n",
    "    edge_complexity.append(complexity)\n",
    "    edge_complexity_dict.update({i:complexity})\n",
    "    \n",
    "    #print(complexity)\n",
    "    #stacked = np.hstack((crop_y_img,crop_edge_img))\n",
    "    #cv2.imwrite(\"cropped\"+str(i)+\".jpg\",stacked)\n",
    "    #print(len(crop_edge_img))\n",
    "    #print(len(crop_edge_img[0]))\n",
    "    #print(\"*****\")\n",
    "#print(cropped_regions)"
   ]
  },
  {
   "cell_type": "code",
   "execution_count": 6,
   "metadata": {
    "collapsed": true
   },
   "outputs": [],
   "source": [
    "x = [0,1,2,3,4,5,6,7,8,9,10,11,12,13,14,15]\n",
    "#print(edge_complexity)"
   ]
  },
  {
   "cell_type": "code",
   "execution_count": 7,
   "metadata": {},
   "outputs": [
    {
     "data": {
      "image/png": "[encoded data removed]",
      "text/plain": [
       "<matplotlib.figure.Figure at 0x7f01c4cc1400>"
      ]
     },
     "metadata": {},
     "output_type": "display_data"
    }
   ],
   "source": [
    "import matplotlib.pyplot as plt\n",
    "index = np.arange(len(x))\n",
    "plt.bar(index, avg_gray_values)\n",
    "plt.xlabel('Region', fontsize=12)\n",
    "plt.ylabel('Avg. Gray Value', fontsize=12)\n",
    "plt.xticks(index, x, fontsize=12)\n",
    "plt.title('Avg Gray value of all regions')\n",
    "plt.show()"
   ]
  },
  {
   "cell_type": "code",
   "execution_count": 8,
   "metadata": {},
   "outputs": [
    {
     "data": {
      "image/png": "[encoded data removed]",
      "text/plain": [
       "<matplotlib.figure.Figure at 0x7f01c0b03940>"
      ]
     },
     "metadata": {},
     "output_type": "display_data"
    }
   ],
   "source": [
    "index = np.arange(len(x))\n",
    "plt.bar(index, edge_complexity)\n",
    "plt.xlabel('Region', fontsize=12)\n",
    "plt.ylabel('Edge Complexity', fontsize=12)\n",
    "plt.xticks(index, x, fontsize=12)\n",
    "plt.title('Edge Complexity of All Regions')\n",
    "plt.show()"
   ]
  },
  {
   "cell_type": "code",
   "execution_count": 12,
   "metadata": {},
   "outputs": [
    {
     "name": "stdout",
     "output_type": "stream",
     "text": [
      "{8: 121.28125, 12: 131.515625, 5: 133.515625, 7: 137.28125, 1: 151.9375, 0: 157.03125, 9: 157.8125, 13: 162.734375}\n",
      "[(0, 0.0), (2, 0.0), (5, 0.0), (3, 0.0003662109375), (14, 0.00042724609375), (1, 0.00048828125), (6, 0.00048828125), (11, 0.00048828125), (9, 0.0006103515625), (4, 0.00067138671875), (13, 0.000732421875), (10, 0.00079345703125), (7, 0.0008544921875), (15, 0.00091552734375), (8, 0.0010986328125), (12, 0.0010986328125)]\n"
     ]
    }
   ],
   "source": [
    "#sort regions by gry values and edge complexity\n",
    "\n",
    "import operator\n",
    "\n",
    "sorted_gray = sorted(avg_gray_dict.items(), key=operator.itemgetter(1))\n",
    "sorted_gray_dict =  dict(sorted_gray[8:])\n",
    "print(sorted_gray_dict)\n",
    "\n",
    "sorted_complexity = sorted(edge_complexity_dict.items(), key=operator.itemgetter(1))\n",
    "print(sorted_complexity)"
   ]
  },
  {
   "cell_type": "code",
   "execution_count": 13,
   "metadata": {},
   "outputs": [
    {
     "name": "stdout",
     "output_type": "stream",
     "text": [
      "[0, 5, 1]\n"
     ]
    }
   ],
   "source": [
    "#select three regions with less complexity and high average gray values\n",
    "\n",
    "count = 0\n",
    "selected_region = []\n",
    "for key,complexity in sorted_complexity:\n",
    "    #print(key)\n",
    "    if key in sorted_gray_dict.keys():\n",
    "        #print(\"milse\")\n",
    "        selected_region.append(key)\n",
    "        count = count+1\n",
    "        \n",
    "    if(count == 3):\n",
    "        break\n",
    "        \n",
    "print(selected_region)"
   ]
  },
  {
   "cell_type": "code",
   "execution_count": 14,
   "metadata": {
    "collapsed": true
   },
   "outputs": [],
   "source": [
    "angles = [[135,90,45],[180,0,0],[225,270,315]] #Normal vector angles"
   ]
  },
  {
   "cell_type": "code",
   "execution_count": 18,
   "metadata": {},
   "outputs": [],
   "source": [
    "#calculate normal vector for each point in the selected three regions\n",
    "\n",
    "normal_vectors = []\n",
    "for k in selected_region:\n",
    "    temp_region = cropped_y_regions[k]\n",
    "    #print(np.array(temp_region[0]))\n",
    "    new_region = np.zeros((grid_height+2,grid_width+2))\n",
    "    #print( new_region.shape)\n",
    "    new_region[1:grid_height+1,1:grid_width+1] = temp_region[0]\n",
    "    #print(new_region)\n",
    "    max_index = []\n",
    "    for i in range(1,grid_height+1):\n",
    "        max_index.append([])\n",
    "        for j in range(1,grid_width+1):\n",
    "            max_value = -1\n",
    "            temp_x=-1\n",
    "            temp_y=-1\n",
    "            max_index[i-1].append([])\n",
    "\n",
    "\n",
    "            #print(\"item: \",b[i][j])\n",
    "            for x in range(3):\n",
    "                for y in range(3):\n",
    "                    #print(\"compare with: \",b[i+x-1][j+y-1])\n",
    "                    if((i+x-1 != i or j+y-1 != j) and new_region[i+x-1][j+y-1] > max_value):\n",
    "                        #print(\"change\")\n",
    "                        max_value = new_region[i+x-1][j+y-1]\n",
    "\n",
    "\n",
    "            for x in range(3):\n",
    "                for y in range(3):\n",
    "                    #print(\"compare with: \",b[i+x-1][j+y-1])\n",
    "                    if((i+x-1 != i or j+y-1 != j) and new_region[i+x-1][j+y-1] == max_value):\n",
    "                        #print(\"change\")\n",
    "\n",
    "                        temp_x =i\n",
    "                        temp_y=j\n",
    "                        angle = angles[x][y]\n",
    "                        max_index[i-1][j-1].append([temp_x,temp_y,max_value,angle])\n",
    "\n",
    "    normal_vectors.append(max_index)\n",
    "    #print(len(max_index[0]))\n",
    "    #print(max_index) \n",
    "    #print(\"****\")\n",
    "    \n",
    "#print(len(normal_vectors[2][0][0]))\n",
    "    \n",
    "                "
   ]
  },
  {
   "cell_type": "code",
   "execution_count": null,
   "metadata": {
    "collapsed": true
   },
   "outputs": [],
   "source": [
    "region_code = [[0,1],[1,2],[2,0]]"
   ]
  },
  {
   "cell_type": "code",
   "execution_count": 125,
   "metadata": {
    "collapsed": true
   },
   "outputs": [],
   "source": [
    "#build M vector\n",
    "M1 = np.zeros((2*grid_height*grid_width,4))\n",
    "M = np.ones(((2*grid_height*grid_width,5)))\n",
    "b = np.zeros((2*grid_height*grid_width,1))\n",
    "M[:,:-1] = M1\n",
    "\n",
    "#print(len(normal_vectors[0][0]))\n",
    "i=0\n",
    "for rows in normal_vectors[2]:   \n",
    "    for points in rows:\n",
    "        maximum = points[0][2]\n",
    "        direction = 0\n",
    "        for normals in points:\n",
    "            #print(normals)\n",
    "            #print(\"*****\")\n",
    "        \n",
    "            direction = direction+normals[3]\n",
    "        \n",
    "        angle = np.deg2rad(direction)\n",
    "        gray_value = cropped_y_regions[selected_region[2]][0][points[0][0]-1][points[0][1]-1]\n",
    "        x = gray_value * maximum * np.cos(angle)\n",
    "        y = gray_value * maximum * np.sin(angle)\n",
    "        M[i][0] = x\n",
    "        M[i][1] = y\n",
    "        b[i][0] = gray_value\n",
    "        #print(M[i][0],y)\n",
    "        i = i+1\n",
    "        \n",
    "#print(M)\n",
    "# print(\"*******\")\n",
    "i = grid_height*grid_width\n",
    "for rows in normal_vectors[0]:   \n",
    "    for points in rows:\n",
    "        maximum = points[0][2]\n",
    "        direction = 0\n",
    "        for normals in points:\n",
    "            #print(normals)\n",
    "            #print(\"*****\")\n",
    "        \n",
    "            direction = direction+normals[3]\n",
    "        \n",
    "        angle = np.deg2rad(direction)\n",
    "        gray_value = cropped_y_regions[selected_region[0]][0][points[0][0]-1][points[0][1]-1]\n",
    "        x = gray_value * maximum * np.cos(angle)\n",
    "        y = gray_value * maximum * np.sin(angle)\n",
    "        M[i][2] = x\n",
    "        M[i][3] = y\n",
    "        b[i][0]\n",
    "        i = i+1\n",
    "        \n",
    "#print(M)"
   ]
  },
  {
   "cell_type": "code",
   "execution_count": 19,
   "metadata": {},
   "outputs": [],
   "source": [
    "C = np.matrix([[-1,0,1,0,0],[0,-1,0,1,0]]) # C Matrix\n",
    "#print(C.shape)"
   ]
  },
  {
   "cell_type": "code",
   "execution_count": 127,
   "metadata": {
    "collapsed": true
   },
   "outputs": [],
   "source": [
    "M = np.asmatrix(M)\n",
    "b = np.asmatrix(b)"
   ]
  },
  {
   "cell_type": "code",
   "execution_count": 60,
   "metadata": {},
   "outputs": [
    {
     "name": "stdout",
     "output_type": "stream",
     "text": [
      "(5, 1)\n"
     ]
    }
   ],
   "source": [
    "first = M*v\n",
    "first = 2*M.transpose()*first\n",
    "\n",
    "print(first.shape)"
   ]
  },
  {
   "cell_type": "code",
   "execution_count": 61,
   "metadata": {},
   "outputs": [
    {
     "name": "stdout",
     "output_type": "stream",
     "text": [
      "(5, 2)\n"
     ]
    }
   ],
   "source": [
    "second = C.transpose()\n",
    "print(second.shape)"
   ]
  },
  {
   "cell_type": "code",
   "execution_count": 62,
   "metadata": {},
   "outputs": [
    {
     "name": "stdout",
     "output_type": "stream",
     "text": [
      "(5, 1)\n"
     ]
    }
   ],
   "source": [
    "third = 2*M.transpose()*b\n",
    "print(third.shape)"
   ]
  },
  {
   "cell_type": "code",
   "execution_count": 63,
   "metadata": {
    "collapsed": true
   },
   "outputs": [],
   "source": [
    "result = first-second-third"
   ]
  },
  {
   "cell_type": "code",
   "execution_count": 98,
   "metadata": {},
   "outputs": [
    {
     "name": "stdout",
     "output_type": "stream",
     "text": [
      "(2, 5)\n"
     ]
    }
   ],
   "source": [
    "print(C.shape)"
   ]
  },
  {
   "cell_type": "code",
   "execution_count": 128,
   "metadata": {},
   "outputs": [
    {
     "name": "stdout",
     "output_type": "stream",
     "text": [
      "[  5.73732088e-07   7.82774369e-07  -5.84718033e-07   8.27894247e-07\n",
      "   7.59674779e+01]\n"
     ]
    }
   ],
   "source": [
    "import numpy as np\n",
    "from scipy.optimize import minimize\n",
    "\n",
    "fun = lambda x: np.linalg.norm(np.dot(M,x)-b)**2\n",
    "\n",
    "sol = minimize(fun, np.zeros(5), method='SLSQP', constraints={'type': 'eq', 'fun': lambda x: np.linalg.norm(np.dot(C,x))**2 })\n",
    "x = sol['x'] \n",
    "\n",
    "print(x)"
   ]
  },
  {
   "cell_type": "code",
   "execution_count": null,
   "metadata": {
    "collapsed": true
   },
   "outputs": [],
   "source": [
    "[ -1.08559782e-06  -1.08095747e-06  -1.08824548e-06  -1.08363225e-06\n",
    "   7.85159947e+01]\n",
    "\n",
    "[  1.50085300e-10  -5.98503729e-09  -8.22597349e-09  -2.34436974e-09\n",
    "   6.67577614e+01]\n",
    "\n",
    "[  1.50085300e-10  -5.98503729e-09  -8.22597349e-09  -2.34436974e-09\n",
    "   6.67577614e+01]"
   ]
  }
 ],
 "metadata": {
  "kernelspec": {
   "display_name": "Python 3",
   "language": "python",
   "name": "python3"
  },
  "language_info": {
   "codemirror_mode": {
    "name": "ipython",
    "version": 3
   },
   "file_extension": ".py",
   "mimetype": "text/x-python",
   "name": "python",
   "nbconvert_exporter": "python",
   "pygments_lexer": "ipython3",
   "version": "3.6.1"
  }
 },
 "nbformat": 4,
 "nbformat_minor": 2
}
