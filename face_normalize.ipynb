{
 "cells": [
  {
   "cell_type": "code",
   "execution_count": 1,
   "metadata": {},
   "outputs": [
    {
     "name": "stdout",
     "output_type": "stream",
     "text": [
      "32 32\n"
     ]
    }
   ],
   "source": [
    "#resize height, width\n",
    "height = 512\n",
    "width = 512\n",
    "grid_height = int(height/16)\n",
    "grid_width = int(width/16)\n",
    "print(grid_height,grid_width)"
   ]
  },
  {
   "cell_type": "code",
   "execution_count": 2,
   "metadata": {},
   "outputs": [
    {
     "data": {
      "text/plain": [
       "True"
      ]
     },
     "execution_count": 2,
     "metadata": {},
     "output_type": "execute_result"
    }
   ],
   "source": [
    "#Block for reading the image and converting it to YCrCb and extract Y component\n",
    "\n",
    "import cv2\n",
    "import numpy as np\n",
    "\n",
    "img = cv2.imread('Lenna.png')\n",
    "\n",
    "img_ycrcb = cv2.cvtColor(img, cv2.COLOR_BGR2YCrCb)\n",
    "Y,Cr,Cb = cv2.split(img_ycrcb)\n",
    "\n",
    "#print(Y)\n",
    "res = cv2.resize(Y,(height, width), interpolation = cv2.INTER_CUBIC)\n",
    "cv2.imwrite(\"y.jpg\",res)\n"
   ]
  },
  {
   "cell_type": "code",
   "execution_count": 3,
   "metadata": {},
   "outputs": [
    {
     "data": {
      "text/plain": [
       "True"
      ]
     },
     "execution_count": 3,
     "metadata": {},
     "output_type": "execute_result"
    }
   ],
   "source": [
    "#blurred = cv2.GaussianBlur(res, (3, 3), 0)\n",
    "edge_image = cv2.Canny(res,50,100,1.5)\n",
    "cv2.imwrite(\"binary-edge.jpg\",edge_image)"
   ]
  },
  {
   "cell_type": "code",
   "execution_count": 4,
   "metadata": {},
   "outputs": [],
   "source": [
    "#block for dividing image into 16 equal regions\n",
    "cropped_y_regions = []\n",
    "cropped_edge_regions = []\n",
    "avg_gray_values = []\n",
    "avg_gray_dict = {}\n",
    "edge_complexity = []\n",
    "edge_complexity_dict = {}\n",
    "\n",
    "for i in range(0,16):\n",
    "    cropped_y_regions.append([])\n",
    "    cropped_edge_regions.append([])\n",
    "    #avg_gray_values.append([])\n",
    "    y = i*grid_height\n",
    "    x = i*grid_width\n",
    "    crop_y_img = res[y:y+grid_height, x:x+grid_width]\n",
    "    crop_edge_img = edge_image[y:y+grid_height, x:x+grid_width]\n",
    "    cropped_y_regions[i].append(crop_y_img)\n",
    "    cropped_edge_regions[i].append(crop_edge_img)\n",
    "    \n",
    "    #find average gray value\n",
    "    avg_gray_values.append(crop_y_img.mean())\n",
    "    avg_gray_dict.update({i:crop_y_img.mean()})\n",
    "    \n",
    "    #calculate edge complexity\n",
    "    complexity = sum(x.tolist().count(255) for x in crop_edge_img)/(grid_height*grid_width)\n",
    "    edge_complexity.append(complexity)\n",
    "    edge_complexity_dict.update({i:complexity})\n",
    "    \n",
    "    #print(complexity)\n",
    "    #stacked = np.hstack((crop_y_img,crop_edge_img))\n",
    "    #cv2.imwrite(\"cropped\"+str(i)+\".jpg\",stacked)\n",
    "    #print(len(crop_edge_img))\n",
    "    #print(len(crop_edge_img[0]))\n",
    "    #print(\"*****\")\n",
    "#print(cropped_regions)"
   ]
  },
  {
   "cell_type": "code",
   "execution_count": 5,
   "metadata": {},
   "outputs": [],
   "source": [
    "x = [0,1,2,3,4,5,6,7,8,9,10,11,12,13,14,15]\n",
    "#print(edge_complexity)"
   ]
  },
  {
   "cell_type": "code",
   "execution_count": 7,
   "metadata": {},
   "outputs": [
    {
     "data": {
      "image/png": "[encoded data removed]",
      "text/plain": [
       "<Figure size 432x288 with 1 Axes>"
      ]
     },
     "metadata": {},
     "output_type": "display_data"
    }
   ],
   "source": [
    "import matplotlib.pyplot as plt\n",
    "index = np.arange(len(x))\n",
    "plt.bar(index, avg_gray_values)\n",
    "plt.xlabel('Region', fontsize=12)\n",
    "plt.ylabel('Avg. Gray Value', fontsize=12)\n",
    "plt.xticks(index, x, fontsize=12)\n",
    "plt.title('Avg Gray value of all regions')\n",
    "plt.show()"
   ]
  },
  {
   "cell_type": "code",
   "execution_count": 8,
   "metadata": {},
   "outputs": [
    {
     "data": {
      "image/png": "[encoded data removed]",
      "text/plain": [
       "<Figure size 432x288 with 1 Axes>"
      ]
     },
     "metadata": {},
     "output_type": "display_data"
    }
   ],
   "source": [
    "index = np.arange(len(x))\n",
    "plt.bar(index, edge_complexity)\n",
    "plt.xlabel('Region', fontsize=12)\n",
    "plt.ylabel('Edge Complexity', fontsize=12)\n",
    "plt.xticks(index, x, fontsize=12)\n",
    "plt.title('Edge Complexity of All Regions')\n",
    "plt.show()"
   ]
  },
  {
   "cell_type": "code",
   "execution_count": 9,
   "metadata": {},
   "outputs": [
    {
     "name": "stdout",
     "output_type": "stream",
     "text": [
      "{8: 120.947265625, 12: 131.3173828125, 5: 131.4873046875, 7: 138.4111328125, 1: 152.115234375, 9: 157.0625, 0: 157.3583984375, 13: 162.4501953125}\n",
      "[(0, 0.0), (2, 0.0087890625), (3, 0.015625), (1, 0.029296875), (12, 0.029296875), (13, 0.046875), (9, 0.078125), (10, 0.1005859375), (15, 0.13671875), (14, 0.16015625), (5, 0.201171875), (4, 0.2177734375), (11, 0.244140625), (7, 0.2470703125), (8, 0.2490234375), (6, 0.3037109375)]\n"
     ]
    }
   ],
   "source": [
    "#sort regions by gry values and edge complexity\n",
    "\n",
    "import operator\n",
    "\n",
    "sorted_gray = sorted(avg_gray_dict.items(), key=operator.itemgetter(1))\n",
    "sorted_gray_dict =  dict(sorted_gray[8:])\n",
    "print(sorted_gray_dict)\n",
    "\n",
    "sorted_complexity = sorted(edge_complexity_dict.items(), key=operator.itemgetter(1))\n",
    "print(sorted_complexity)"
   ]
  },
  {
   "cell_type": "code",
   "execution_count": 10,
   "metadata": {},
   "outputs": [
    {
     "name": "stdout",
     "output_type": "stream",
     "text": [
      "[0, 1, 12]\n"
     ]
    }
   ],
   "source": [
    "#select three regions with less complexity and high average gray values\n",
    "\n",
    "count = 0\n",
    "selected_region = []\n",
    "for key,complexity in sorted_complexity:\n",
    "    #print(key)\n",
    "    if key in sorted_gray_dict.keys():\n",
    "        #print(\"milse\")\n",
    "        selected_region.append(key)\n",
    "        count = count+1\n",
    "        \n",
    "    if(count == 3):\n",
    "        break\n",
    "        \n",
    "print(selected_region)"
   ]
  },
  {
   "cell_type": "code",
   "execution_count": 11,
   "metadata": {},
   "outputs": [],
   "source": [
    "angles = [[135,90,45],[180,0,0],[225,270,315]] #Normal vector angles"
   ]
  },
  {
   "cell_type": "code",
   "execution_count": 12,
   "metadata": {},
   "outputs": [],
   "source": [
    "#calculate normal vector for each point in the selected three regions\n",
    "\n",
    "normal_vectors = []\n",
    "for k in selected_region:\n",
    "    temp_region = cropped_y_regions[k]\n",
    "    #print(np.array(temp_region[0]))\n",
    "    new_region = np.zeros((grid_height+2,grid_width+2))\n",
    "    #print( new_region.shape)\n",
    "    new_region[1:grid_height+1,1:grid_width+1] = temp_region[0]\n",
    "    #print(new_region)\n",
    "    max_index = []\n",
    "    for i in range(1,grid_height+1):\n",
    "        max_index.append([])\n",
    "        for j in range(1,grid_width+1):\n",
    "            max_value = -1\n",
    "            temp_x=-1\n",
    "            temp_y=-1\n",
    "            max_index[i-1].append([])\n",
    "\n",
    "\n",
    "            #print(\"item: \",b[i][j])\n",
    "            for x in range(3):\n",
    "                for y in range(3):\n",
    "                    #print(\"compare with: \",b[i+x-1][j+y-1])\n",
    "                    if((i+x-1 != i or j+y-1 != j) and new_region[i+x-1][j+y-1] > max_value):\n",
    "                        #print(\"change\")\n",
    "                        max_value = new_region[i+x-1][j+y-1]\n",
    "\n",
    "\n",
    "            for x in range(3):\n",
    "                for y in range(3):\n",
    "                    #print(\"compare with: \",b[i+x-1][j+y-1])\n",
    "                    if((i+x-1 != i or j+y-1 != j) and new_region[i+x-1][j+y-1] == max_value):\n",
    "                        #print(\"change\")\n",
    "\n",
    "                        temp_x =i\n",
    "                        temp_y=j\n",
    "                        angle = angles[x][y]\n",
    "                        max_index[i-1][j-1].append([temp_x,temp_y,max_value-new_region[temp_x][temp_y],angle])\n",
    "\n",
    "    normal_vectors.append(max_index)\n",
    "    #print(len(max_index[0]))\n",
    "    #print(max_index) \n",
    "    #print(\"****\")\n",
    "    \n",
    "#print(len(normal_vectors[2][0][0]))\n",
    "    \n",
    "                "
   ]
  },
  {
   "cell_type": "code",
   "execution_count": 13,
   "metadata": {},
   "outputs": [],
   "source": [
    "region_code = [[0,1],[1,2],[2,0]]"
   ]
  },
  {
   "cell_type": "code",
   "execution_count": 14,
   "metadata": {},
   "outputs": [],
   "source": [
    "#build M vector\n",
    "\n",
    "all_M = []\n",
    "all_b = []\n",
    "\n",
    "for code in region_code:\n",
    "    m = code[0]\n",
    "    n = code[1]\n",
    "    \n",
    "    M1 = np.zeros((2*grid_height*grid_width,4))\n",
    "    M = np.ones(((2*grid_height*grid_width,5)))\n",
    "    b = np.zeros((2*grid_height*grid_width,1))\n",
    "    M[:,:-1] = M1\n",
    "\n",
    "    #print(len(normal_vectors[0][0]))\n",
    "    i=0\n",
    "    for rows in normal_vectors[m]:   \n",
    "        for points in rows:\n",
    "            maximum = points[0][2]\n",
    "            direction = 0\n",
    "            for normals in points:\n",
    "                #print(normals)\n",
    "                #print(\"*****\")\n",
    "\n",
    "                direction = direction+normals[3]\n",
    "\n",
    "            angle = np.deg2rad(direction)\n",
    "            gray_value = cropped_y_regions[selected_region[m]][0][points[0][0]-1][points[0][1]-1]\n",
    "            x = gray_value * maximum * np.cos(angle)\n",
    "            y = gray_value * maximum * np.sin(angle)\n",
    "            M[i][0] = x\n",
    "            M[i][1] = y\n",
    "            b[i][0] = gray_value\n",
    "            #print(M[i][0],y)\n",
    "            i = i+1\n",
    "\n",
    "    #print(M)\n",
    "    # print(\"*******\")\n",
    "    i = grid_height*grid_width\n",
    "    for rows in normal_vectors[n]:   \n",
    "        for points in rows:\n",
    "            maximum = points[0][2]\n",
    "            direction = 0\n",
    "            for normals in points:\n",
    "                #print(normals)\n",
    "                #print(\"*****\")\n",
    "\n",
    "                direction = direction+normals[3]\n",
    "\n",
    "            angle = np.deg2rad(direction)\n",
    "            gray_value = cropped_y_regions[selected_region[n]][0][points[0][0]-1][points[0][1]-1]\n",
    "            x = gray_value * maximum * np.cos(angle)\n",
    "            y = gray_value * maximum * np.sin(angle)\n",
    "            M[i][2] = x\n",
    "            M[i][3] = y\n",
    "            b[i][0]\n",
    "            i = i+1\n",
    "            \n",
    "    all_M.append(M)\n",
    "    all_b.append(b)\n",
    "        \n",
    "#print(M)"
   ]
  },
  {
   "cell_type": "code",
   "execution_count": 15,
   "metadata": {},
   "outputs": [],
   "source": [
    "C = np.matrix([[-1,0,1,0,0],[0,-1,0,1,0]]) # C Matrix\n",
    "#print(C.shape)"
   ]
  },
  {
   "cell_type": "code",
   "execution_count": 41,
   "metadata": {},
   "outputs": [
    {
     "name": "stdout",
     "output_type": "stream",
     "text": [
      "[[  1.85573104e+04  -1.85573104e+04   0.00000000e+00   0.00000000e+00\n",
      "    1.00000000e+00]\n",
      " [ -2.62440000e+04  -3.21396306e-12   0.00000000e+00   0.00000000e+00\n",
      "    1.00000000e+00]\n",
      " [  1.85573104e+04   1.85573104e+04   0.00000000e+00   0.00000000e+00\n",
      "    1.00000000e+00]\n",
      " ..., \n",
      " [  0.00000000e+00   0.00000000e+00   9.01340044e-13   1.47200000e+04\n",
      "    1.00000000e+00]\n",
      " [  0.00000000e+00   0.00000000e+00   9.16410388e+03   9.16410388e+03\n",
      "    1.00000000e+00]\n",
      " [  0.00000000e+00   0.00000000e+00   7.76120403e+03   7.76120403e+03\n",
      "    1.00000000e+00]]\n"
     ]
    }
   ],
   "source": [
    "print(all_M[0])"
   ]
  },
  {
   "cell_type": "code",
   "execution_count": 16,
   "metadata": {},
   "outputs": [
    {
     "name": "stdout",
     "output_type": "stream",
     "text": [
      "for region 1 and 2:  -1.5925647380525764e-05 -0.0001700134182223043\n",
      "for region 2 and 3:  -6.302271921457717e-05 -0.0003771043910700096\n",
      "for region 3 and 1:  4.645673020035359e-09 -2.2518542344661304e-08\n"
     ]
    }
   ],
   "source": [
    "#calculate L(m,n)\n",
    "\n",
    "L = []\n",
    "import numpy as np\n",
    "from scipy.optimize import minimize\n",
    "i=0\n",
    "for i in range(3):\n",
    "    L.append([])\n",
    "    m = region_code[i][0]\n",
    "    n = region_code[i][1]\n",
    "    \n",
    "    fun = lambda x: np.linalg.norm(np.dot(all_M[i],x)-b[i])**2\n",
    "\n",
    "    sol = minimize(fun, np.zeros(5), method='SLSQP', constraints={'type': 'eq', 'fun': lambda x: np.linalg.norm(np.dot(C,x))**2 })\n",
    "    x = sol['x'] \n",
    "\n",
    "    print(\"for region \"+str(m+1)+\" and \"+str(n+1)+\": \",x[0],x[1])\n",
    "    L[i].append(x[0])\n",
    "    L[i].append(x[1])"
   ]
  },
  {
   "cell_type": "code",
   "execution_count": 17,
   "metadata": {},
   "outputs": [
    {
     "name": "stdout",
     "output_type": "stream",
     "text": [
      "0 1\n",
      "0.0 0.029296875\n",
      "1 12\n",
      "0.029296875 0.029296875\n",
      "12 0\n",
      "0.029296875 0.0\n",
      "[34.13333333 17.06666667 34.13333333]\n"
     ]
    }
   ],
   "source": [
    "i=0\n",
    "W = np.ones(3)\n",
    "for i in range(3):\n",
    "    m = selected_region[region_code[i][0]]\n",
    "    n = selected_region[region_code[i][1]]\n",
    "    print(m,n)\n",
    "    wm = edge_complexity[m]\n",
    "    wn = edge_complexity[n]\n",
    "    print(wm,wn)\n",
    "    try:\n",
    "        w =  1/(wm+wn)\n",
    "        W[i] = w\n",
    "        \n",
    "    except:\n",
    "        continue\n",
    "    \n",
    "print(W)\n",
    "    \n",
    "    "
   ]
  },
  {
   "cell_type": "code",
   "execution_count": 18,
   "metadata": {},
   "outputs": [
    {
     "name": "stdout",
     "output_type": "stream",
     "text": [
      "[-0.0016190245995449791, -0.012239808249161516]\n"
     ]
    }
   ],
   "source": [
    "#find final L \n",
    "final_sum = [0,0]\n",
    "for i in range(3):\n",
    "    temp_sum = np.dot(W[i],L[i])\n",
    "    final_sum[0] = final_sum[0] + temp_sum[0]\n",
    "    final_sum[1] = final_sum[1] + temp_sum[1]\n",
    "    \n",
    "print(final_sum)"
   ]
  },
  {
   "cell_type": "code",
   "execution_count": 19,
   "metadata": {},
   "outputs": [
    {
     "name": "stdout",
     "output_type": "stream",
     "text": [
      "final illuminant direction:  7.623330937026386\n"
     ]
    }
   ],
   "source": [
    "x = final_sum[0]*width/grid_width\n",
    "y = final_sum[1]*height/grid_width\n",
    "\n",
    "illuminant_direction =  np.tan(x/y)\n",
    "print(\"final illuminant direction: \",np.rad2deg(illuminant_direction))"
   ]
  },
  {
   "cell_type": "code",
   "execution_count": null,
   "metadata": {
    "collapsed": true
   },
   "outputs": [],
   "source": []
  }
 ],
 "metadata": {
  "kernelspec": {
   "display_name": "Python 3",
   "language": "python",
   "name": "python3"
  },
  "language_info": {
   "codemirror_mode": {
    "name": "ipython",
    "version": 3
   },
   "file_extension": ".py",
   "mimetype": "text/x-python",
   "name": "python",
   "nbconvert_exporter": "python",
   "pygments_lexer": "ipython3",
   "version": "3.6.5"
  }
 },
 "nbformat": 4,
 "nbformat_minor": 2
}
