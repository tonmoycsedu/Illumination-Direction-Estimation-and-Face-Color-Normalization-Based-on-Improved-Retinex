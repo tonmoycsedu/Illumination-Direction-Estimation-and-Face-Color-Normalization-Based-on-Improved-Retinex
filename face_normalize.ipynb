{
 "cells": [
  {
   "cell_type": "code",
   "execution_count": 9,
   "metadata": {},
   "outputs": [
    {
     "name": "stdout",
     "output_type": "stream",
     "text": [
      "25 25\n"
     ]
    }
   ],
   "source": [
    "#resize height, width\n",
    "height = 400\n",
    "width = 400\n",
    "grid_height = int(height/16)\n",
    "grid_width = int(width/16)\n",
    "print(grid_height,grid_width)"
   ]
  },
  {
   "cell_type": "code",
   "execution_count": 14,
   "metadata": {},
   "outputs": [
    {
     "data": {
      "text/plain": [
       "True"
      ]
     },
     "execution_count": 14,
     "metadata": {},
     "output_type": "execute_result"
    }
   ],
   "source": [
    "#Block for reading the image and converting it to YCrCb and extract Y component\n",
    "\n",
    "import cv2\n",
    "import numpy as np\n",
    "\n",
    "img = cv2.imread('Img37.jpg')\n",
    "\n",
    "img_ycrcb = cv2.cvtColor(img, cv2.COLOR_BGR2YCrCb)\n",
    "Y,Cr,Cb = cv2.split(img_ycrcb)\n",
    "\n",
    "#print(Y)\n",
    "res = cv2.resize(Y,(height, width), interpolation = cv2.INTER_CUBIC)\n",
    "cv2.imwrite(\"y.jpg\",res)\n"
   ]
  },
  {
   "cell_type": "code",
   "execution_count": 18,
   "metadata": {
    "collapsed": true
   },
   "outputs": [],
   "source": [
    "#block for automatic canny edge detection\n",
    "# import the necessary packages\n",
    "import argparse\n",
    "import glob\n",
    "\n",
    "\n",
    "def auto_canny(image, sigma=0.33):\n",
    "    # compute the median of the single channel pixel intensities\n",
    "    v = np.median(image)\n",
    "\n",
    "    # apply automatic Canny edge detection using the computed median\n",
    "    lower = int(max(0, (1.0 - sigma) * v))\n",
    "    upper = int(min(255, (1.0 + sigma) * v))\n",
    "    edged = cv2.Canny(image, lower, upper)\n",
    "\n",
    "    # return the edged image\n",
    "    return edged"
   ]
  },
  {
   "cell_type": "code",
   "execution_count": 21,
   "metadata": {},
   "outputs": [
    {
     "data": {
      "text/plain": [
       "True"
      ]
     },
     "execution_count": 21,
     "metadata": {},
     "output_type": "execute_result"
    }
   ],
   "source": [
    "#convert Y component to binary image/ edge detetction\n",
    "blurred = cv2.GaussianBlur(res, (3, 3), 0)\n",
    "edge_image = auto_canny(blurred)\n",
    "cv2.imwrite(\"binary.jpg\",edge_image)"
   ]
  },
  {
   "cell_type": "code",
   "execution_count": 25,
   "metadata": {},
   "outputs": [],
   "source": [
    "#block for dividing image into 16 equal regions\n",
    "cropped_y_regions = []\n",
    "cropped_edge_regions = []\n",
    "\n",
    "for i in range(0,16):\n",
    "    cropped_y_regions.append([])\n",
    "    cropped_edge_regions.append([])\n",
    "    y = i*grid_height\n",
    "    x = i*grid_width\n",
    "    crop_y_img = res[y:y+grid_height, x:x+grid_width]\n",
    "    crop_edge_img = edge_image[y:y+grid_height, x:x+grid_width]\n",
    "    cropped_y_regions[i].append(crop_y_img)\n",
    "    cropped_edge_regions[i].append(crop_edge_img)\n",
    "    #stacked = np.hstack((crop_y_img,crop_edge_img))\n",
    "    #cv2.imwrite(\"cropped\"+str(i)+\".jpg\",stacked)\n",
    "#print(cropped_regions)"
   ]
  },
  {
   "cell_type": "code",
   "execution_count": null,
   "metadata": {
    "collapsed": true
   },
   "outputs": [],
   "source": []
  }
 ],
 "metadata": {
  "kernelspec": {
   "display_name": "Python 3",
   "language": "python",
   "name": "python3"
  },
  "language_info": {
   "codemirror_mode": {
    "name": "ipython",
    "version": 3
   },
   "file_extension": ".py",
   "mimetype": "text/x-python",
   "name": "python",
   "nbconvert_exporter": "python",
   "pygments_lexer": "ipython3",
   "version": "3.6.1"
  }
 },
 "nbformat": 4,
 "nbformat_minor": 2
}
