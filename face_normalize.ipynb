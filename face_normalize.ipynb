{
 "cells": [
  {
   "cell_type": "code",
   "execution_count": 5,
   "metadata": {
    "collapsed": true
   },
   "outputs": [],
   "source": [
    "#resize height, width\n",
    "height = 400\n",
    "width = 400\n",
    "grid_height = height/16\n",
    "grid_width = width/16"
   ]
  },
  {
   "cell_type": "code",
   "execution_count": 4,
   "metadata": {},
   "outputs": [
    {
     "data": {
      "text/plain": [
       "True"
      ]
     },
     "execution_count": 4,
     "metadata": {},
     "output_type": "execute_result"
    }
   ],
   "source": [
    "#Block for reading the image and converting it to YCrCb and extract Y component\n",
    "\n",
    "import cv2\n",
    "import numpy as np\n",
    "\n",
    "img = cv2.imread('Img37.jpg')\n",
    "\n",
    "img_ycrcb = cv2.cvtColor(img, cv2.COLOR_BGR2YCrCb)\n",
    "Y,Cr,Cb = cv2.split(img_ycrcb)\n",
    "\n",
    "#print(Y)\n",
    "res = cv2.resize(Y,(400, 400), interpolation = cv2.INTER_CUBIC)\n",
    "cv2.imwrite(\"y.jpg\",res)\n"
   ]
  },
  {
   "cell_type": "code",
   "execution_count": null,
   "metadata": {
    "collapsed": true
   },
   "outputs": [],
   "source": []
  }
 ],
 "metadata": {
  "kernelspec": {
   "display_name": "Python 3",
   "language": "python",
   "name": "python3"
  },
  "language_info": {
   "codemirror_mode": {
    "name": "ipython",
    "version": 3
   },
   "file_extension": ".py",
   "mimetype": "text/x-python",
   "name": "python",
   "nbconvert_exporter": "python",
   "pygments_lexer": "ipython3",
   "version": "3.6.1"
  }
 },
 "nbformat": 4,
 "nbformat_minor": 2
}
